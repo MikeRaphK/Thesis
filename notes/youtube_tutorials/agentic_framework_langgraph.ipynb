{
 "cells": [
  {
   "cell_type": "markdown",
   "metadata": {},
   "source": [
    "# Agentic Framework LangGraph Explained\n",
    "I will be using this notebook to take notes on the [Agentic Framework LangGraph Explained](https://www.youtube.com/watch?v=1Q_MDOWaljk) video. I've already grasped the basics of nodes, edges, conditional edges and workflows, but I would also like to get a taste from another tutorial for a new point of view. It might help me answer questions that I never knew I had!"
   ]
  },
  {
   "cell_type": "markdown",
   "metadata": {
    "vscode": {
     "languageId": "plaintext"
    }
   },
   "source": [
    "## State\n",
    "The first we need to do is define the state. It is important to note that states are different from nodes.\n"
   ]
  },
  {
   "cell_type": "code",
   "execution_count": 1,
   "metadata": {},
   "outputs": [],
   "source": [
    "from langgraph.graph import StateGraph\n",
    "from langgraph.graph.message import add_messages\n",
    "\n",
    "from typing import Annotated\n",
    "from typing_extensions import TypedDict\n",
    "\n",
    "# TypedDict is used to create a dictionary with explicitly defined key-value types.\n",
    "# Each state will essentially be repressented as a pre-defined dictionary\n",
    "class State(TypedDict):\n",
    "    # Annotated is a special type hinting feature that allows attaching metadata to type hints without altering the actual type\n",
    "    # For example:\n",
    "    # def process(x: Annotated[int, \"Must be a positive integer\"]):\n",
    "    #   print(x)\n",
    "    # Python ignores \"Must be a positive integer\" at runtime, but libraries (like pydantic, langgraph, etc.) can read this metadata.\n",
    "\n",
    "    # The add_messages reducer function is used to append new messages to the list instead of overwriting it. \n",
    "    # By default, keys without a reducer annotation will overwrite previous values. \n",
    "    messages : Annotated[list, add_messages]\n",
    "\n",
    "# Our graph will now store State class objects in each node\n",
    "graph = StateGraph(State)"
   ]
  },
  {
   "cell_type": "markdown",
   "metadata": {},
   "source": [
    "## Tools\n",
    "Since we are building a ReAct agent, we are going to need tools. This is the default way of building tools using the @tool decorator."
   ]
  },
  {
   "cell_type": "code",
   "execution_count": 2,
   "metadata": {},
   "outputs": [],
   "source": [
    "from langchain_core.tools import tool\n",
    "\n",
    "@tool\n",
    "def get_weather(location : str) -> str:\n",
    "    \"\"\"\n",
    "    Call this tool to get the current weather\n",
    "    \"\"\"\n",
    "    if \"ioannina\" in location.lower():\n",
    "        return \"It's raining cats and dogs!\"\n",
    "    else:\n",
    "        return \"It's warm and sunny\"\n",
    "\n",
    "# Always save your tools in your toolkit!\n",
    "tools = []\n",
    "tools.append(get_weather)"
   ]
  },
  {
   "cell_type": "markdown",
   "metadata": {},
   "source": [
    "## LLM with tools\n",
    "Now we can initialize the LLM and bind it with our own toolkit."
   ]
  },
  {
   "cell_type": "code",
   "execution_count": 3,
   "metadata": {},
   "outputs": [],
   "source": [
    "from langchain_openai import ChatOpenAI\n",
    "\n",
    "# Model init\n",
    "import os\n",
    "OPENAI_API_KEY = os.getenv(\"OPENAI_API_KEY\")\n",
    "llm = ChatOpenAI(model=\"gpt-4o-mini\", openai_api_key=OPENAI_API_KEY, temperature=0)\n",
    "\n",
    "# Bind with tool\n",
    "llm_with_tools = llm.bind_tools(tools)"
   ]
  },
  {
   "cell_type": "markdown",
   "metadata": {},
   "source": [
    "## Tool node\n",
    "One of the most important features of a workflow is the tool node. This node contains all available tools that the model has access to."
   ]
  },
  {
   "cell_type": "code",
   "execution_count": 4,
   "metadata": {},
   "outputs": [
    {
     "data": {
      "text/plain": [
       "<langgraph.graph.state.StateGraph at 0x7f06a1ee29f0>"
      ]
     },
     "execution_count": 4,
     "metadata": {},
     "output_type": "execute_result"
    }
   ],
   "source": [
    "from langgraph.prebuilt import ToolNode\n",
    "\n",
    "tool_node = ToolNode(tools)\n",
    "graph.add_node(\"tool_node\", tool_node)"
   ]
  },
  {
   "cell_type": "markdown",
   "metadata": {},
   "source": [
    "## Prompt Node\n",
    "This is the node where we invoke the model. The model will then decide if it needs a tool or not."
   ]
  },
  {
   "cell_type": "code",
   "execution_count": 5,
   "metadata": {},
   "outputs": [
    {
     "data": {
      "text/plain": [
       "<langgraph.graph.state.StateGraph at 0x7f06a1ee29f0>"
      ]
     },
     "execution_count": 5,
     "metadata": {},
     "output_type": "execute_result"
    }
   ],
   "source": [
    "def prompt_node(state : State) -> State:\n",
    "    \"\"\"\n",
    "    Invokes the model to decided whether a tool needs to be called or not\n",
    "    \"\"\"\n",
    "    chat_history = state[\"messages\"]\n",
    "    new_message = llm_with_tools.invoke(chat_history)\n",
    "    # Don't forget to return a State. This State will be appended to the 'State History' thanks to 'add_messages'\n",
    "    return {\"messages\" : [new_message]}\n",
    "\n",
    "graph.add_node(\"prompt_node\", prompt_node)"
   ]
  },
  {
   "cell_type": "markdown",
   "metadata": {},
   "source": [
    "## Edges\n",
    "Now we connect all the nodes together. Our entry point will be the prompt node. The prompt node will then decide whether we need to call a tool or not using a conditional edge. If the model needs no tool call, the workflow ends, Otherwise, we move onto the tool node, and then we move back to the prompt node"
   ]
  },
  {
   "cell_type": "code",
   "execution_count": 6,
   "metadata": {},
   "outputs": [
    {
     "data": {
      "text/plain": [
       "<langgraph.graph.state.StateGraph at 0x7f06a1ee29f0>"
      ]
     },
     "execution_count": 6,
     "metadata": {},
     "output_type": "execute_result"
    }
   ],
   "source": [
    "from typing import Literal\n",
    "\n",
    "# Set entry point\n",
    "graph.set_entry_point(\"prompt_node\")\n",
    "\n",
    "# This function strictly returns either one of these string values: 'tool_node' or '__end__'\n",
    "def conditional_edge(state : State) -> Literal['tool_node', '__end__']:\n",
    "    \"\"\"\n",
    "    Decides whether a tool should be called or not\n",
    "    \"\"\"\n",
    "    # If the last message contained a tool call we need to route to the tool node\n",
    "    chat_history = state[\"messages\"]\n",
    "    last_message = chat_history[-1]\n",
    "    if last_message.tool_calls:\n",
    "        return \"tool_node\"\n",
    "    # Otherwise, the workflow ends\n",
    "    else:\n",
    "        return \"__end__\"\n",
    "    \n",
    "# Add conditional edge\n",
    "graph.add_conditional_edges(\n",
    "    'prompt_node',\n",
    "    conditional_edge\n",
    ")\n",
    "\n",
    "# Add edge from tool to prompt node\n",
    "graph.add_edge(\"tool_node\", \"prompt_node\")"
   ]
  },
  {
   "cell_type": "markdown",
   "metadata": {},
   "source": [
    "## Compile and visualization\n",
    "After compiling, Python offers this really helpful library to visualize our graph"
   ]
  },
  {
   "cell_type": "code",
   "execution_count": 7,
   "metadata": {},
   "outputs": [
    {
     "data": {
      "image/png": "[encoded data removed]",
      "text/plain": [
       "<IPython.core.display.Image object>"
      ]
     },
     "metadata": {},
     "output_type": "display_data"
    }
   ],
   "source": [
    "from IPython.display import Image, display\n",
    "APP = graph.compile()\n",
    "display(Image(APP.get_graph().draw_mermaid_png()))"
   ]
  },
  {
   "cell_type": "markdown",
   "metadata": {},
   "source": [
    "## Invoke the APP\n",
    "Finally, all we have to do is invoke the app with a HumanMessage. I also like adding a SystemMessage to my chat history."
   ]
  },
  {
   "cell_type": "code",
   "execution_count": 11,
   "metadata": {},
   "outputs": [
    {
     "name": "stdout",
     "output_type": "stream",
     "text": [
      "ChatGPT: The weather in Ioannina, Greece is currently very rainy.\n"
     ]
    }
   ],
   "source": [
    "from langchain_core.messages import HumanMessage, SystemMessage\n",
    "\n",
    "chat_history = []\n",
    "chat_history.append(SystemMessage(content=\"You are a helpful assistant that answers user questions regarding the weather. You use tools for that.\"))\n",
    "chat_history.append(HumanMessage(content=\"What is the weather like in Ioannina, Greece?\"))\n",
    "\n",
    "output_state = APP.invoke({\"messages\" : chat_history})\n",
    "content = output_state[\"messages\"][-1].content\n",
    "print(f\"ChatGPT: {content}\")"
   ]
  }
 ],
 "metadata": {
  "kernelspec": {
   "display_name": "Python 3",
   "language": "python",
   "name": "python3"
  },
  "language_info": {
   "codemirror_mode": {
    "name": "ipython",
    "version": 3
   },
   "file_extension": ".py",
   "mimetype": "text/x-python",
   "name": "python",
   "nbconvert_exporter": "python",
   "pygments_lexer": "ipython3",
   "version": "3.12.3"
  }
 },
 "nbformat": 4,
 "nbformat_minor": 2
}
